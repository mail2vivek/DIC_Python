{
 "cells": [
  {
   "cell_type": "code",
   "execution_count": 2,
   "metadata": {},
   "outputs": [
    {
     "data": {
      "image/png": "[encoded data removed]",
      "text/plain": [
       "<Figure size 432x288 with 1 Axes>"
      ]
     },
     "metadata": {
      "needs_background": "light"
     },
     "output_type": "display_data"
    },
    {
     "name": "stdout",
     "output_type": "stream",
     "text": [
      "Pearsons correlation calcuation using Manually: 0.0000\n",
      "Pearsons correlation calcuation using Python Library: -0.0000\n"
     ]
    }
   ],
   "source": [
    "#Exercise 3: Speed and Gas Mileage\n",
    "\n",
    "import pandas as pd\n",
    "import csv\n",
    "import matplotlib.pyplot as plt\n",
    "from scipy.stats import pearsonr\n",
    "import math\n",
    "\n",
    "df = pd.read_csv(\"Pearson_Prob_3.csv\",\n",
    "                    dtype={'Miles/Hour_x': float , 'Miles/Gallon_y': float})\n",
    "\n",
    "X = df['Miles/Hour_x']\n",
    "Y = df['Miles/Gallon_y']\n",
    "\n",
    "plt.scatter(X, Y)\n",
    "plt.xlabel(\"Miles/Hour_x\")\n",
    "plt.ylabel(\"Miles/Gallon_y\")\n",
    "plt.title('Exercise 3: Speed and Gas Mileage')\n",
    "plt.gcf().autofmt_xdate()\n",
    "plt.savefig(\"Exercise_3.png\")\n",
    "plt.show()\n",
    "\n",
    "#Pearson FUnction implementation using  Manually\n",
    "Xmean = sum(X)/len(X)\n",
    "Ymean = sum(Y)/len(Y)\n",
    "\n",
    "x = [var-Xmean for var in X]\n",
    "y = [var-Ymean for var in Y]\n",
    "\n",
    "xy =[a*b for a,b in list(zip(x,y))]\n",
    "sum_xy = sum(xy)\n",
    "\n",
    "x_square = [a*a for a in x]\n",
    "y_square = [b*b for b in y]\n",
    "\n",
    "sum_x_square = sum(x_square)\n",
    "sum_y_square = sum(y_square)\n",
    "\n",
    "sum_x_square_sum_y_square = sum_x_square*sum_y_square\n",
    "sqrt_sum_x_square_sum_y_square = math.sqrt(sum_x_square_sum_y_square)\n",
    "\n",
    "r = sum_xy/sqrt_sum_x_square_sum_y_square\n",
    "print('Pearsons correlation calcuation using Manually: %.4f' % r)\n",
    "\n",
    "#Pearson Implementation using python library\n",
    "pearsoncorr, _ = pearsonr(X,Y)\n",
    "print('Pearsons correlation calcuation using Python Library: %.4f' % pearsoncorr)"
   ]
  },
  {
   "cell_type": "code",
   "execution_count": null,
   "metadata": {},
   "outputs": [],
   "source": []
  },
  {
   "cell_type": "code",
   "execution_count": null,
   "metadata": {},
   "outputs": [],
   "source": []
  }
 ],
 "metadata": {
  "kernelspec": {
   "display_name": "Python 3",
   "language": "python",
   "name": "python3"
  },
  "language_info": {
   "codemirror_mode": {
    "name": "ipython",
    "version": 3
   },
   "file_extension": ".py",
   "mimetype": "text/x-python",
   "name": "python",
   "nbconvert_exporter": "python",
   "pygments_lexer": "ipython3",
   "version": "3.7.4"
  }
 },
 "nbformat": 4,
 "nbformat_minor": 2
}
