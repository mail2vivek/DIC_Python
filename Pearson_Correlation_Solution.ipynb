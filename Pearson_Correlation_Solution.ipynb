{
 "cells": [
  {
   "cell_type": "code",
   "execution_count": null,
   "metadata": {},
   "outputs": [],
   "source": [
    "import pandas as pd\n",
    "import csv\n",
    "import matplotlib.pyplot as plt\n",
    "from scipy.stats import pearsonr\n",
    "import math\n",
    "\n",
    "def ScatterPlot(X, Y, x_axis, y_axis, Title):\n",
    "    plt.scatter(X, Y)\n",
    "    plt.xlabel(x_axis)\n",
    "    plt.ylabel(y_axis)\n",
    "    plt.title(Title)\n",
    "    plt.gcf().autofmt_xdate()\n",
    "    plt.show()\n",
    "\n",
    "def mean(x):\n",
    "    sum = 0.0\n",
    "    for i in x:\n",
    "         sum += i\n",
    "    return float(sum / len(x))\n",
    "\n",
    "#sd(x)=sqrt( (xi-mean(x))^2 / n-1 )\n",
    "def standardDeviation(x):\n",
    "    sum_sd = 0.0\n",
    "    for i in x:\n",
    "         sum_sd += (i - mean(x))**2\n",
    "    return math.sqrt(sum_sd/(len(x)-1))\n",
    "\n",
    "#covariance(x,y)=sum(xi-mean(x)* yi-mean(y))/ n-1\n",
    "def covariance(x,y):\n",
    "    cov_xy = []\n",
    "    for i,j in zip(x,y):\n",
    "        x1 = i-mean(x)\n",
    "        y1 = j-mean(y)\n",
    "        cov_xy.append(x1*y1)\n",
    "    cov = sum(cov_xy)\n",
    "    return cov/(len(x)-1)\n",
    "\n",
    "#correlation(x,y)=covariance(x,y)/sd(x)*sd(y)\n",
    "def correlation(x, y):\n",
    "    corr = (covariance(x,y)) / (standardDeviation(x)*standardDeviation(y))\n",
    "    return corr\n",
    "\n",
    "def PearsonSolution(FileName, x_axis, y_axis, Title):\n",
    "    df = pd.read_csv(FileName, dtype={x_axis: float, y_axis: float})\n",
    "    X = df[x_axis]\n",
    "    Y = df[y_axis]\n",
    "    ScatterPlot(X, Y, x_axis, y_axis, Title)\n",
    "    print(Title + '--> Pearson Correlation using formula: %.4f' % correlation(X, Y))\n",
    "    pearsoncorr, _ = pearsonr(X, Y)\n",
    "    print(Title + '--> Pearson Correlation using Python Library: %.4f' % pearsoncorr)\n",
    "\n",
    "\n",
    "PearsonSolution(\"Pearson_Prob_1.csv\",\"Age_x\", \"Score_y\", \"Exercise 1: Predicting Mental Ability\" )\n",
    "PearsonSolution(\"Pearson_Prob_2.csv\",\"Stumps_x\", \"Beetle_Larvae_y\", \"Exercise 2: Tree Stumps and Beetle Larvae\" )\n",
    "PearsonSolution(\"Pearson_Prob_3.csv\",\"Miles/Hour_x\", \"Miles/Gallon_y\", \"Exercise 3: Speed and Gas Mileage\" )\n"
   ]
  }
 ],
 "metadata": {
  "kernelspec": {
   "display_name": "Python 3",
   "language": "python",
   "name": "python3"
  },
  "language_info": {
   "codemirror_mode": {
    "name": "ipython",
    "version": 3
   },
   "file_extension": ".py",
   "mimetype": "text/x-python",
   "name": "python",
   "nbconvert_exporter": "python",
   "pygments_lexer": "ipython3",
   "version": "3.7.4"
  }
 },
 "nbformat": 4,
 "nbformat_minor": 2
}
